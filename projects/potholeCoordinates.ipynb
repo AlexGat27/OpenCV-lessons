{
 "cells": [
  {
   "cell_type": "code",
   "execution_count": 4,
   "metadata": {},
   "outputs": [],
   "source": [
    "import cv2\n",
    "import numpy as np\n",
    "import matplotlib.pyplot as plt\n",
    "from PIL import Image\n",
    "from ultralytics import YOLO"
   ]
  },
  {
   "cell_type": "code",
   "execution_count": 6,
   "metadata": {},
   "outputs": [],
   "source": [
    "model = YOLO('../best.pt')"
   ]
  },
  {
   "cell_type": "markdown",
   "metadata": {},
   "source": [
    "#### Задаем параметры камеры"
   ]
  },
  {
   "cell_type": "code",
   "execution_count": 24,
   "metadata": {},
   "outputs": [],
   "source": [
    "cameraHeight = 30\n",
    "angleCamera = 80\n",
    "cameraResolition = np.array([800,800])\n",
    "\n"
   ]
  },
  {
   "cell_type": "markdown",
   "metadata": {},
   "source": [
    "#### Высчитываем мировые координаты ямы "
   ]
  },
  {
   "cell_type": "code",
   "execution_count": 28,
   "metadata": {},
   "outputs": [],
   "source": [
    "def convertCoordinates(cam_worldCoords: np.array, pothole_imgCoords: np.array, azimut):\n",
    "    quartMatrix = np.array([[np.cos(azimut),-np.sin(azimut)],\n",
    "                             [np.sin(azimut),np.cos(azimut)]])\n",
    "\n",
    "    D = (pothole_imgCoords - cameraResolition / 2) / (cameraResolition / 2)\n",
    "    vector = D * cameraHeight * np.tan(angleCamera/2)\n",
    "\n",
    "    vectorWithAzimut = np.matmul(vector, quartMatrix)\n",
    "\n",
    "    pothole_worldCoords = cam_worldCoords + vectorWithAzimut\n",
    "    return pothole_worldCoords\n",
    "    "
   ]
  },
  {
   "cell_type": "code",
   "execution_count": 29,
   "metadata": {},
   "outputs": [
    {
     "data": {
      "text/plain": [
       "array([     12.186,      22.382])"
      ]
     },
     "execution_count": 29,
     "metadata": {},
     "output_type": "execute_result"
    }
   ],
   "source": [
    "cam_world = np.array([0, 0])\n",
    "pothole_imgCoords = np.array([350, 700])\n",
    "azimut = 230\n",
    "coords = convertCoordinates(cam_world,pothole_imgCoords,azimut)\n",
    "coords"
   ]
  },
  {
   "cell_type": "code",
   "execution_count": 27,
   "metadata": {},
   "outputs": [
    {
     "data": {
      "text/plain": [
       "array([[    0.15425,     0.98803],\n",
       "       [   -0.98803,     0.15425]])"
      ]
     },
     "execution_count": 27,
     "metadata": {},
     "output_type": "execute_result"
    }
   ],
   "source": []
  },
  {
   "cell_type": "code",
   "execution_count": null,
   "metadata": {},
   "outputs": [],
   "source": []
  }
 ],
 "metadata": {
  "kernelspec": {
   "display_name": ".venv",
   "language": "python",
   "name": "python3"
  },
  "language_info": {
   "codemirror_mode": {
    "name": "ipython",
    "version": 3
   },
   "file_extension": ".py",
   "mimetype": "text/x-python",
   "name": "python",
   "nbconvert_exporter": "python",
   "pygments_lexer": "ipython3",
   "version": "3.11.4"
  },
  "orig_nbformat": 4
 },
 "nbformat": 4,
 "nbformat_minor": 2
}
