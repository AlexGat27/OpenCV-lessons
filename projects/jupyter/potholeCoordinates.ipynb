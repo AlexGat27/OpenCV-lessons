{
 "cells": [
  {
   "cell_type": "code",
   "execution_count": 2,
   "metadata": {},
   "outputs": [],
   "source": [
    "# import cv2\n",
    "# import matplotlib.pyplot as plt\n",
    "# from PIL import Image\n",
    "# from ultralytics import YOLO\n",
    "import numpy as np\n",
    "from pyproj import Proj, transform\n",
    "from random import randint, random, choice"
   ]
  },
  {
   "cell_type": "code",
   "execution_count": 3,
   "metadata": {},
   "outputs": [],
   "source": [
    "# model = YOLO('../best.pt')"
   ]
  },
  {
   "cell_type": "code",
   "execution_count": null,
   "metadata": {},
   "outputs": [],
   "source": [
    "HALF_EQUATOR = 20037508.34"
   ]
  },
  {
   "cell_type": "markdown",
   "metadata": {},
   "source": [
    "#### Задаем параметры камеры"
   ]
  },
  {
   "cell_type": "code",
   "execution_count": 17,
   "metadata": {},
   "outputs": [
    {
     "name": "stderr",
     "output_type": "stream",
     "text": [
      "d:\\MyProgramms\\Programs\\Python\\pothole-coordinates\\.venv\\Lib\\site-packages\\pyproj\\crs\\crs.py:141: FutureWarning: '+init=<authority>:<code>' syntax is deprecated. '<authority>:<code>' is the preferred initialization method. When making the change, be mindful of axis order changes: https://pyproj4.github.io/pyproj/stable/gotchas.html#axis-order-changes-in-proj-6\n",
      "  in_crs_string = _prepare_from_proj_string(in_crs_string)\n"
     ]
    }
   ],
   "source": [
    "wgs84 = Proj(init='epsg:4326')"
   ]
  },
  {
   "cell_type": "code",
   "execution_count": 18,
   "metadata": {},
   "outputs": [],
   "source": [
    "resolution = [i for i in range(400, 4000, 200)]\n",
    "coefs = [i for i in range(10, 10000, 200)]\n",
    "\n",
    "class Camera():\n",
    "    def __init__(self):\n",
    "        self.updateParam()\n",
    "    \n",
    "    def updateParam(self, h, az, ang, res, wc):\n",
    "        self.height = h\n",
    "        self.azimut = az\n",
    "        self.angleView = ang\n",
    "        self.resolition = res\n",
    "        self.worldCoords = wc"
   ]
  },
  {
   "cell_type": "markdown",
   "metadata": {},
   "source": [
    "#### Высчитываем мировые координаты ямы "
   ]
  },
  {
   "cell_type": "code",
   "execution_count": 21,
   "metadata": {},
   "outputs": [],
   "source": [
    "def epsg3857To4326(coords3857: np.array):\n",
    "    lon = (coords3857.x / HALF_EQUATOR) * 180\n",
    "    lat = (coords3857.y / HALF_EQUATOR) * 180\n",
    "    lat = np.arctan(np.exp(lat * np.pi / 180))\n",
    "    lat = lat / (Math.PI / 360)\n",
    "    lat -= 90\n",
    "    return np.array([lat, lon])"
   ]
  },
  {
   "cell_type": "code",
   "execution_count": null,
   "metadata": {},
   "outputs": [],
   "source": [
    "def vectorWithAzimut(vec: np.array, azimut: float):\n",
    "    quartMatrix = np.array([[np.cos(azimut),-np.sin(azimut)],\n",
    "                             [np.sin(azimut),np.cos(azimut)]]) # Формирование матрицы\n",
    "    return quartMatrix @ vec"
   ]
  },
  {
   "cell_type": "code",
   "execution_count": null,
   "metadata": {},
   "outputs": [],
   "source": [
    "def convertCoords(coordsItemImage: np.array, cam: Camera):\n",
    "    vectorPos = coordsItemImage / (cam.resolition[1] / 2)\n",
    "    vectorPos = vectorWithAzimut(vectorPos, cam.azimut)\n",
    "    vectorPos = vectorPos * cam.height + cam.worldCoords\n",
    "    return epsg3857To4326(vectorPos)\n",
    "        "
   ]
  },
  {
   "cell_type": "code",
   "execution_count": null,
   "metadata": {},
   "outputs": [],
   "source": []
  }
 ],
 "metadata": {
  "kernelspec": {
   "display_name": "Python 3.12.1 ('.venv': venv)",
   "language": "python",
   "name": "python3"
  },
  "language_info": {
   "codemirror_mode": {
    "name": "ipython",
    "version": 3
   },
   "file_extension": ".py",
   "mimetype": "text/x-python",
   "name": "python",
   "nbconvert_exporter": "python",
   "pygments_lexer": "ipython3",
   "version": "3.11.7"
  },
  "orig_nbformat": 4,
  "vscode": {
   "interpreter": {
    "hash": "3943023dded9dac6b5e4290c1a7ba1da530f226d8539c1711c0de681ac673d62"
   }
  }
 },
 "nbformat": 4,
 "nbformat_minor": 2
}
