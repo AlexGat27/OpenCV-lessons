{
 "cells": [
  {
   "cell_type": "code",
   "execution_count": 16,
   "metadata": {},
   "outputs": [],
   "source": [
    "import cv2\n",
    "import numpy as np\n",
    "import matplotlib.pyplot as plt\n",
    "from PIL import Image\n",
    "# from ultralytics import YOLO\n",
    "from pyproj import Proj, transform\n",
    "from random import randint, random, choice"
   ]
  },
  {
   "cell_type": "code",
   "execution_count": 3,
   "metadata": {},
   "outputs": [],
   "source": [
    "# model = YOLO('../best.pt')"
   ]
  },
  {
   "cell_type": "markdown",
   "metadata": {},
   "source": [
    "#### Задаем параметры камеры"
   ]
  },
  {
   "cell_type": "code",
   "execution_count": 17,
   "metadata": {},
   "outputs": [
    {
     "name": "stderr",
     "output_type": "stream",
     "text": [
      "d:\\MyProgramms\\Programs\\Python\\pothole-coordinates\\.venv\\Lib\\site-packages\\pyproj\\crs\\crs.py:141: FutureWarning: '+init=<authority>:<code>' syntax is deprecated. '<authority>:<code>' is the preferred initialization method. When making the change, be mindful of axis order changes: https://pyproj4.github.io/pyproj/stable/gotchas.html#axis-order-changes-in-proj-6\n",
      "  in_crs_string = _prepare_from_proj_string(in_crs_string)\n"
     ]
    }
   ],
   "source": [
    "wgs84 = Proj(init='epsg:4326')"
   ]
  },
  {
   "cell_type": "code",
   "execution_count": 18,
   "metadata": {},
   "outputs": [],
   "source": [
    "resolution = [i for i in range(400, 4000, 200)]\n",
    "coefs = [i for i in range(10, 10000, 200)]\n",
    "\n",
    "class Camera():\n",
    "    def __init__(self):\n",
    "        self.updateParam()\n",
    "    \n",
    "    def updateParam(self):\n",
    "        self.height = randint(5, 30)\n",
    "        self.azimut = randint(0, 360)\n",
    "        self.angleView = randint(50, 160)\n",
    "        self.resolition = np.array([choice(resolution), choice(resolution)])\n",
    "        self.worldCoords = np.random.rand(2) * np.array([choice(coefs), choice(coefs)])"
   ]
  },
  {
   "cell_type": "markdown",
   "metadata": {},
   "source": [
    "#### Высчитываем мировые координаты ямы "
   ]
  },
  {
   "cell_type": "code",
   "execution_count": 21,
   "metadata": {},
   "outputs": [],
   "source": [
    "def pixelsToMetresOffset(cam: Camera, pothole_imgCoords: np.array, proj: Proj):\n",
    "    quartMatrix = np.array([[np.cos(cam.azimut),-np.sin(cam.azimut)],\n",
    "                             [np.sin(cam.azimut),np.cos(cam.azimut)]]) # Формирование матрицы поворота\n",
    "\n",
    "    lon, lat = cam.worldCoords\n",
    "\n",
    "    D = (pothole_imgCoords - cam.resolition / 2) / (cam.resolition / 2) #Вычисление вектора местонахождения ямы\n",
    "    vector = D * cam.height * np.tan(cam.angleView/2) #Преобразование вектора в реальные размеры (в метрах)\n",
    "\n",
    "    dx, dy = np.matmul(vector, quartMatrix) #Умножение на матрицу поворота для определения реального смещения\n",
    "\n",
    "    new_lon, new_lat = transform(proj, proj, lon + dx / (proj.crs.ellipsoid.semi_major_metre * np.cos(lat * np.pi / 180.0)),\n",
    "                                        lat + dy / proj.crs.ellipsoid.semi_major_metre) #Вычисление мировых координат ямы\n",
    "    return new_lon, new_lat"
   ]
  },
  {
   "cell_type": "code",
   "execution_count": 22,
   "metadata": {},
   "outputs": [
    {
     "name": "stdout",
     "output_type": "stream",
     "text": [
      "[1282 2197] (582.1444598138287, 6797.39270207796)\n"
     ]
    },
    {
     "name": "stderr",
     "output_type": "stream",
     "text": [
      "C:\\Users\\sanya\\AppData\\Local\\Temp\\ipykernel_13508\\994254206.py:12: FutureWarning: This function is deprecated. See: https://pyproj4.github.io/pyproj/stable/gotchas.html#upgrading-to-pyproj-2-from-pyproj-1\n",
      "  new_lon, new_lat = transform(proj, proj, lon + dx / (proj.crs.ellipsoid.semi_major_metre * np.cos(lat * np.pi / 180.0)),\n"
     ]
    }
   ],
   "source": [
    "cam = Camera()\n",
    "potholeImgCoords = np.random.randint([0,0], [cam.resolition[0], cam.resolition[1]])\n",
    "potholeWorldCoords = pixelsToMetresOffset(cam, potholeImgCoords, wgs84)\n",
    "print(potholeImgCoords, potholeWorldCoords)"
   ]
  },
  {
   "cell_type": "code",
   "execution_count": null,
   "metadata": {},
   "outputs": [],
   "source": []
  }
 ],
 "metadata": {
  "kernelspec": {
   "display_name": "Python 3.12.1 ('.venv': venv)",
   "language": "python",
   "name": "python3"
  },
  "language_info": {
   "codemirror_mode": {
    "name": "ipython",
    "version": 3
   },
   "file_extension": ".py",
   "mimetype": "text/x-python",
   "name": "python",
   "nbconvert_exporter": "python",
   "pygments_lexer": "ipython3",
   "version": "3.11.7"
  },
  "orig_nbformat": 4,
  "vscode": {
   "interpreter": {
    "hash": "3943023dded9dac6b5e4290c1a7ba1da530f226d8539c1711c0de681ac673d62"
   }
  }
 },
 "nbformat": 4,
 "nbformat_minor": 2
}
