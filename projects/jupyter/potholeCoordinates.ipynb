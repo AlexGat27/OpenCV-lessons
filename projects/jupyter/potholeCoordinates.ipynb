{
 "cells": [
  {
   "cell_type": "code",
   "execution_count": 4,
   "metadata": {},
   "outputs": [],
   "source": [
    "import cv2\n",
    "import numpy as np\n",
    "import matplotlib.pyplot as plt\n",
    "from PIL import Image\n",
    "from ultralytics import YOLO"
   ]
  },
  {
   "cell_type": "code",
   "execution_count": 6,
   "metadata": {},
   "outputs": [],
   "source": [
    "model = YOLO('../best.pt')"
   ]
  },
  {
   "cell_type": "markdown",
   "metadata": {},
   "source": [
    "#### Задаем параметры камеры"
   ]
  },
  {
   "cell_type": "code",
   "execution_count": 24,
   "metadata": {},
   "outputs": [],
   "source": [
    "cameraHeight = 30\n",
    "angleCamera = 80\n",
    "cameraResolition = np.array([800,800])"
   ]
  },
  {
   "cell_type": "markdown",
   "metadata": {},
   "source": [
    "#### Высчитываем мировые координаты ямы "
   ]
  },
  {
   "cell_type": "code",
   "execution_count": 28,
   "metadata": {},
   "outputs": [],
   "source": [
    "def convertCoordinates(cam_worldCoords: np.array, pothole_imgCoords: np.array, azimut):\n",
    "    quartMatrix = np.array([[np.cos(azimut),-np.sin(azimut)],\n",
    "                             [np.sin(azimut),np.cos(azimut)]])\n",
    "\n",
    "    D = (pothole_imgCoords - cameraResolition / 2) / (cameraResolition / 2)\n",
    "    vector = D * cameraHeight * np.tan(angleCamera/2)\n",
    "\n",
    "    vectorWithAzimut = np.matmul(vector, quartMatrix)\n",
    "\n",
    "    pothole_worldCoords = cam_worldCoords + vectorWithAzimut\n",
    "    return pothole_worldCoords"
   ]
  }
 ],
 "metadata": {
  "kernelspec": {
   "display_name": ".venv",
   "language": "python",
   "name": "python3"
  },
  "language_info": {
   "codemirror_mode": {
    "name": "ipython",
    "version": 3
   },
   "file_extension": ".py",
   "mimetype": "text/x-python",
   "name": "python",
   "nbconvert_exporter": "python",
   "pygments_lexer": "ipython3",
   "version": "3.11.4"
  },
  "orig_nbformat": 4
 },
 "nbformat": 4,
 "nbformat_minor": 2
}
